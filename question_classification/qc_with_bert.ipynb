{
 "cells": [
  {
   "cell_type": "markdown",
   "metadata": {},
   "source": [
    "# Question Classification using BERT-base\n",
    "- Finetuning bert on the dataset for few epochs.\n",
    "- The best accuracy on the test set is **0.97**"
   ]
  },
  {
   "cell_type": "code",
   "execution_count": 21,
   "metadata": {},
   "outputs": [],
   "source": [
    "import pandas as pd\n",
    "import random\n",
    "import os\n",
    "import time\n",
    "import numpy as np\n",
    "import torch\n",
    "\n",
    "\n",
    "def set_seed(seed):\n",
    "    \"\"\"Set seed\"\"\"\n",
    "    random.seed(seed)\n",
    "    np.random.seed(seed)\n",
    "    os.environ['PYTHONHASHSEED'] = str(seed)\n",
    "    torch.manual_seed(seed)\n",
    "    torch.backends.cudnn.deterministic = True\n",
    "\n",
    "set_seed(2020) # for reproducibility of random modules if used"
   ]
  },
  {
   "cell_type": "markdown",
   "metadata": {},
   "source": [
    "# Data Loading"
   ]
  },
  {
   "cell_type": "code",
   "execution_count": 2,
   "metadata": {},
   "outputs": [],
   "source": [
    "f_train = open('data/train_5500.txt', 'r+')\n",
    "f_test = open('data/TREC_10.txt', 'r+')\n",
    "\n",
    "train = pd.DataFrame(f_train.readlines(), columns = ['Question'])\n",
    "test = pd.DataFrame(f_test.readlines(), columns = ['Question'])\n",
    "\n",
    "train['QType'] = train.Question.apply(lambda x: x.split(' ', 1)[0])\n",
    "train['Question'] = train.Question.apply(lambda x: x.split(' ', 1)[1])\n",
    "train['QType-Coarse'] = train.QType.apply(lambda x: x.split(':')[0])\n",
    "train['QType-Fine'] = train.QType.apply(lambda x: x.split(':')[1])\n",
    "test['QType'] = test.Question.apply(lambda x: x.split(' ', 1)[0])\n",
    "test['Question'] = test.Question.apply(lambda x: x.split(' ', 1)[1])\n",
    "test['QType-Coarse'] = test.QType.apply(lambda x: x.split(':')[0])\n",
    "test['QType-Fine'] = test.QType.apply(lambda x: x.split(':')[1])"
   ]
  },
  {
   "cell_type": "code",
   "execution_count": 3,
   "metadata": {},
   "outputs": [
    {
     "data": {
      "text/html": [
       "<div>\n",
       "<style scoped>\n",
       "    .dataframe tbody tr th:only-of-type {\n",
       "        vertical-align: middle;\n",
       "    }\n",
       "\n",
       "    .dataframe tbody tr th {\n",
       "        vertical-align: top;\n",
       "    }\n",
       "\n",
       "    .dataframe thead th {\n",
       "        text-align: right;\n",
       "    }\n",
       "</style>\n",
       "<table border=\"1\" class=\"dataframe\">\n",
       "  <thead>\n",
       "    <tr style=\"text-align: right;\">\n",
       "      <th></th>\n",
       "      <th>Question</th>\n",
       "      <th>QType</th>\n",
       "      <th>QType-Coarse</th>\n",
       "      <th>QType-Fine</th>\n",
       "    </tr>\n",
       "  </thead>\n",
       "  <tbody>\n",
       "    <tr>\n",
       "      <th>0</th>\n",
       "      <td>How did serfdom develop in and then leave Russ...</td>\n",
       "      <td>DESC:manner</td>\n",
       "      <td>DESC</td>\n",
       "      <td>manner</td>\n",
       "    </tr>\n",
       "    <tr>\n",
       "      <th>1</th>\n",
       "      <td>What films featured the character Popeye Doyle...</td>\n",
       "      <td>ENTY:cremat</td>\n",
       "      <td>ENTY</td>\n",
       "      <td>cremat</td>\n",
       "    </tr>\n",
       "    <tr>\n",
       "      <th>2</th>\n",
       "      <td>How can I find a list of celebrities ' real na...</td>\n",
       "      <td>DESC:manner</td>\n",
       "      <td>DESC</td>\n",
       "      <td>manner</td>\n",
       "    </tr>\n",
       "    <tr>\n",
       "      <th>3</th>\n",
       "      <td>What fowl grabs the spotlight after the Chines...</td>\n",
       "      <td>ENTY:animal</td>\n",
       "      <td>ENTY</td>\n",
       "      <td>animal</td>\n",
       "    </tr>\n",
       "    <tr>\n",
       "      <th>4</th>\n",
       "      <td>What is the full form of .com ?\\n</td>\n",
       "      <td>ABBR:exp</td>\n",
       "      <td>ABBR</td>\n",
       "      <td>exp</td>\n",
       "    </tr>\n",
       "  </tbody>\n",
       "</table>\n",
       "</div>"
      ],
      "text/plain": [
       "                                            Question        QType  \\\n",
       "0  How did serfdom develop in and then leave Russ...  DESC:manner   \n",
       "1  What films featured the character Popeye Doyle...  ENTY:cremat   \n",
       "2  How can I find a list of celebrities ' real na...  DESC:manner   \n",
       "3  What fowl grabs the spotlight after the Chines...  ENTY:animal   \n",
       "4                  What is the full form of .com ?\\n     ABBR:exp   \n",
       "\n",
       "  QType-Coarse QType-Fine  \n",
       "0         DESC     manner  \n",
       "1         ENTY     cremat  \n",
       "2         DESC     manner  \n",
       "3         ENTY     animal  \n",
       "4         ABBR        exp  "
      ]
     },
     "execution_count": 3,
     "metadata": {},
     "output_type": "execute_result"
    }
   ],
   "source": [
    "train.head()"
   ]
  },
  {
   "cell_type": "code",
   "execution_count": 4,
   "metadata": {},
   "outputs": [
    {
     "data": {
      "text/html": [
       "<div>\n",
       "<style scoped>\n",
       "    .dataframe tbody tr th:only-of-type {\n",
       "        vertical-align: middle;\n",
       "    }\n",
       "\n",
       "    .dataframe tbody tr th {\n",
       "        vertical-align: top;\n",
       "    }\n",
       "\n",
       "    .dataframe thead th {\n",
       "        text-align: right;\n",
       "    }\n",
       "</style>\n",
       "<table border=\"1\" class=\"dataframe\">\n",
       "  <thead>\n",
       "    <tr style=\"text-align: right;\">\n",
       "      <th></th>\n",
       "      <th>Question</th>\n",
       "      <th>QType</th>\n",
       "      <th>QType-Coarse</th>\n",
       "      <th>QType-Fine</th>\n",
       "    </tr>\n",
       "  </thead>\n",
       "  <tbody>\n",
       "    <tr>\n",
       "      <th>0</th>\n",
       "      <td>How did serfdom develop in and then leave Russ...</td>\n",
       "      <td>DESC:manner</td>\n",
       "      <td>1</td>\n",
       "      <td>manner</td>\n",
       "    </tr>\n",
       "    <tr>\n",
       "      <th>1</th>\n",
       "      <td>What films featured the character Popeye Doyle...</td>\n",
       "      <td>ENTY:cremat</td>\n",
       "      <td>2</td>\n",
       "      <td>cremat</td>\n",
       "    </tr>\n",
       "    <tr>\n",
       "      <th>2</th>\n",
       "      <td>How can I find a list of celebrities ' real na...</td>\n",
       "      <td>DESC:manner</td>\n",
       "      <td>1</td>\n",
       "      <td>manner</td>\n",
       "    </tr>\n",
       "    <tr>\n",
       "      <th>3</th>\n",
       "      <td>What fowl grabs the spotlight after the Chines...</td>\n",
       "      <td>ENTY:animal</td>\n",
       "      <td>2</td>\n",
       "      <td>animal</td>\n",
       "    </tr>\n",
       "    <tr>\n",
       "      <th>4</th>\n",
       "      <td>What is the full form of .com ?\\n</td>\n",
       "      <td>ABBR:exp</td>\n",
       "      <td>0</td>\n",
       "      <td>exp</td>\n",
       "    </tr>\n",
       "  </tbody>\n",
       "</table>\n",
       "</div>"
      ],
      "text/plain": [
       "                                            Question        QType  \\\n",
       "0  How did serfdom develop in and then leave Russ...  DESC:manner   \n",
       "1  What films featured the character Popeye Doyle...  ENTY:cremat   \n",
       "2  How can I find a list of celebrities ' real na...  DESC:manner   \n",
       "3  What fowl grabs the spotlight after the Chines...  ENTY:animal   \n",
       "4                  What is the full form of .com ?\\n     ABBR:exp   \n",
       "\n",
       "   QType-Coarse QType-Fine  \n",
       "0             1     manner  \n",
       "1             2     cremat  \n",
       "2             1     manner  \n",
       "3             2     animal  \n",
       "4             0        exp  "
      ]
     },
     "execution_count": 4,
     "metadata": {},
     "output_type": "execute_result"
    }
   ],
   "source": [
    "from sklearn.preprocessing import LabelEncoder\n",
    "le = LabelEncoder()\n",
    "le.fit(pd.Series(train['QType-Coarse'].tolist() + test['QType-Coarse'].tolist()).values)\n",
    "train['QType-Coarse'] = le.transform(train['QType-Coarse'].values)\n",
    "test['QType-Coarse'] = le.transform(test['QType-Coarse'].values)\n",
    "train.head()"
   ]
  },
  {
   "cell_type": "code",
   "execution_count": 5,
   "metadata": {},
   "outputs": [
    {
     "data": {
      "text/plain": [
       "array([1, 2, 0, 3, 5, 4])"
      ]
     },
     "execution_count": 5,
     "metadata": {},
     "output_type": "execute_result"
    }
   ],
   "source": [
    "train['QType-Coarse'].unique()"
   ]
  },
  {
   "cell_type": "markdown",
   "metadata": {},
   "source": [
    "## EDA\n",
    "- The train and test class distributions are similar with class '0' having less number of examples."
   ]
  },
  {
   "cell_type": "code",
   "execution_count": 6,
   "metadata": {},
   "outputs": [
    {
     "data": {
      "text/plain": [
       "<AxesSubplot:xlabel='QType-Coarse', ylabel='count'>"
      ]
     },
     "execution_count": 6,
     "metadata": {},
     "output_type": "execute_result"
    },
    {
     "data": {
      "image/png": "[encoded data removed]",
      "text/plain": [
       "<Figure size 432x288 with 1 Axes>"
      ]
     },
     "metadata": {
      "needs_background": "light"
     },
     "output_type": "display_data"
    }
   ],
   "source": [
    "import seaborn as sns\n",
    "sns.countplot(train['QType-Coarse'])"
   ]
  },
  {
   "cell_type": "code",
   "execution_count": 7,
   "metadata": {},
   "outputs": [
    {
     "data": {
      "text/plain": [
       "<AxesSubplot:xlabel='QType-Coarse', ylabel='count'>"
      ]
     },
     "execution_count": 7,
     "metadata": {},
     "output_type": "execute_result"
    },
    {
     "data": {
      "image/png": "[encoded data removed]",
      "text/plain": [
       "<Figure size 432x288 with 1 Axes>"
      ]
     },
     "metadata": {
      "needs_background": "light"
     },
     "output_type": "display_data"
    }
   ],
   "source": [
    "sns.countplot(test['QType-Coarse'])"
   ]
  },
  {
   "cell_type": "code",
   "execution_count": 8,
   "metadata": {},
   "outputs": [
    {
     "data": {
      "text/plain": [
       "<AxesSubplot:ylabel='Frequency'>"
      ]
     },
     "execution_count": 8,
     "metadata": {},
     "output_type": "execute_result"
    },
    {
     "data": {
      "image/png": "[encoded data removed]",
      "text/plain": [
       "<Figure size 432x288 with 1 Axes>"
      ]
     },
     "metadata": {
      "needs_background": "light"
     },
     "output_type": "display_data"
    }
   ],
   "source": [
    "train['Question'].str.len().plot.hist(figsize = (6, 4))"
   ]
  },
  {
   "cell_type": "markdown",
   "metadata": {},
   "source": [
    "# Using BERT"
   ]
  },
  {
   "cell_type": "code",
   "execution_count": 9,
   "metadata": {},
   "outputs": [],
   "source": [
    "import torch\n",
    "import torch.nn as nn\n",
    "from torch.utils.data import Dataset, DataLoader, RandomSampler, SequentialSampler\n",
    "from transformers import BertTokenizer,BertModel,AdamW,get_linear_schedule_with_warmup\n",
    "\n",
    "\n",
    "MAX_LEN = 128\n",
    "\n",
    "class QuestionDataset(Dataset):\n",
    "\n",
    "  def __init__(self, questions, labels, tokenizer, max_len):\n",
    "    self.questions = questions\n",
    "    self.labels = labels\n",
    "    self.tokenizer = tokenizer\n",
    "    self.max_len = max_len\n",
    "  \n",
    "  def __len__(self):\n",
    "    return len(self.questions)\n",
    "  \n",
    "  def __getitem__(self, item):\n",
    "    question = str(self.questions[item])\n",
    "    label = self.labels[item]\n",
    "\n",
    "    encoding = self.tokenizer.encode_plus(\n",
    "      question,\n",
    "      add_special_tokens=True,\n",
    "      max_length=self.max_len,\n",
    "      return_token_type_ids=False,\n",
    "      pad_to_max_length=True,\n",
    "      return_attention_mask=True,\n",
    "        truncation=True,\n",
    "      return_tensors='pt',\n",
    "    )\n",
    "\n",
    "    return {\n",
    "      'question': question,\n",
    "      'input_ids': encoding['input_ids'].flatten(),\n",
    "      'attention_mask': encoding['attention_mask'].flatten(),\n",
    "      'labels': torch.tensor(label, dtype=torch.long)\n",
    "    }"
   ]
  },
  {
   "cell_type": "code",
   "execution_count": 10,
   "metadata": {},
   "outputs": [],
   "source": [
    "BATCH_SIZE = 32\n",
    "PRE_TRAINED_MODEL_NAME = 'bert-base-uncased'\n",
    "tokenizer = BertTokenizer.from_pretrained(PRE_TRAINED_MODEL_NAME)\n",
    "train_data_loader = DataLoader(QuestionDataset(train['Question'].to_numpy(),train['QType-Coarse'].to_numpy() ,tokenizer, MAX_LEN), batch_size=BATCH_SIZE)\n",
    "test_data_loader = DataLoader(QuestionDataset(test['Question'].to_numpy(),test['QType-Coarse'].to_numpy() ,tokenizer, MAX_LEN), batch_size=BATCH_SIZE)"
   ]
  },
  {
   "cell_type": "code",
   "execution_count": 11,
   "metadata": {},
   "outputs": [
    {
     "data": {
      "text/plain": [
       "dict_keys(['question', 'input_ids', 'attention_mask', 'labels'])"
      ]
     },
     "execution_count": 11,
     "metadata": {},
     "output_type": "execute_result"
    }
   ],
   "source": [
    "data = next(iter(train_data_loader))\n",
    "data.keys()"
   ]
  },
  {
   "cell_type": "code",
   "execution_count": 12,
   "metadata": {},
   "outputs": [
    {
     "name": "stdout",
     "output_type": "stream",
     "text": [
      "torch.Size([32, 128])\n",
      "torch.Size([32, 128])\n",
      "torch.Size([32])\n"
     ]
    }
   ],
   "source": [
    "print(data['input_ids'].shape)\n",
    "print(data['attention_mask'].shape)\n",
    "print(data['labels'].shape)"
   ]
  },
  {
   "cell_type": "code",
   "execution_count": 13,
   "metadata": {},
   "outputs": [],
   "source": [
    "class QuestionClassifier(nn.Module):\n",
    "\n",
    "  def __init__(self, n_classes):\n",
    "    super(QuestionClassifier, self).__init__()\n",
    "    self.bert = BertModel.from_pretrained(PRE_TRAINED_MODEL_NAME)\n",
    "    self.drop = nn.Dropout(p=0.1)\n",
    "    self.out = nn.Linear(self.bert.config.hidden_size, n_classes)\n",
    "  \n",
    "  def forward(self, input_ids, attention_mask):\n",
    "    _, pooled_output = self.bert(\n",
    "      input_ids=input_ids,\n",
    "      attention_mask=attention_mask\n",
    "    )\n",
    "    output = self.drop(pooled_output)\n",
    "    return self.out(output)"
   ]
  },
  {
   "cell_type": "code",
   "execution_count": 14,
   "metadata": {},
   "outputs": [],
   "source": [
    "def train_epoch(\n",
    "  model, \n",
    "  data_loader, \n",
    "  loss_fn, \n",
    "  optimizer, \n",
    "  device, \n",
    "  scheduler, \n",
    "  n_examples\n",
    "):\n",
    "  model = model.train()\n",
    "\n",
    "  losses = []\n",
    "  correct_predictions = 0\n",
    "  \n",
    "  for d in data_loader:\n",
    "    input_ids = d[\"input_ids\"].to(device)\n",
    "    attention_mask = d[\"attention_mask\"].to(device)\n",
    "    targets = d[\"labels\"].to(device)\n",
    "\n",
    "    outputs = model(\n",
    "      input_ids=input_ids,\n",
    "      attention_mask=attention_mask\n",
    "    )\n",
    "\n",
    "    _, preds = torch.max(outputs, dim=1)\n",
    "    loss = loss_fn(outputs, targets)\n",
    "\n",
    "    correct_predictions += torch.sum(preds == targets)\n",
    "    losses.append(loss.item())\n",
    "\n",
    "    loss.backward()\n",
    "    nn.utils.clip_grad_norm_(model.parameters(), max_norm=1.0)\n",
    "    optimizer.step()\n",
    "    scheduler.step()\n",
    "    optimizer.zero_grad()\n",
    "\n",
    "  return correct_predictions.double() / n_examples, np.mean(losses)"
   ]
  },
  {
   "cell_type": "code",
   "execution_count": 15,
   "metadata": {},
   "outputs": [],
   "source": [
    "def eval_model(model, data_loader, loss_fn, device, n_examples):\n",
    "  model = model.eval()\n",
    "\n",
    "  losses = []\n",
    "  correct_predictions = 0\n",
    "\n",
    "  with torch.no_grad():\n",
    "    for d in data_loader:\n",
    "      input_ids = d[\"input_ids\"].to(device)\n",
    "      attention_mask = d[\"attention_mask\"].to(device)\n",
    "      targets = d[\"labels\"].to(device)\n",
    "\n",
    "      outputs = model(\n",
    "        input_ids=input_ids,\n",
    "        attention_mask=attention_mask\n",
    "      )\n",
    "      _, preds = torch.max(outputs, dim=1)\n",
    "\n",
    "      loss = loss_fn(outputs, targets)\n",
    "\n",
    "      correct_predictions += torch.sum(preds == targets)\n",
    "      losses.append(loss.item())\n",
    "\n",
    "  return correct_predictions.double() / n_examples, np.mean(losses)"
   ]
  },
  {
   "cell_type": "code",
   "execution_count": 16,
   "metadata": {},
   "outputs": [],
   "source": [
    "from collections import defaultdict \n",
    "def train_model(lr,epochs,num_warmup_steps,num_train_steps):\n",
    "    model = QuestionClassifier(len(train['QType-Coarse'].unique()))\n",
    "    model = model.to(device)\n",
    "\n",
    "    optimizer = AdamW(model.parameters(), lr=lr, correct_bias=False)\n",
    "\n",
    "\n",
    "    scheduler = get_linear_schedule_with_warmup(\n",
    "      optimizer,\n",
    "      num_warmup_steps=num_warmup_steps,\n",
    "      num_training_steps=num_train_steps\n",
    "    )\n",
    "\n",
    "    loss_fn = nn.CrossEntropyLoss().to(device)\n",
    "    history = defaultdict(list)\n",
    "    best_accuracy = 0.\n",
    "\n",
    "    for epoch in range(int(epochs)):\n",
    "\n",
    "        print(f'Epoch {epoch + 1}/{int(epochs)}')\n",
    "        print('-' * 10)\n",
    "\n",
    "        train_acc, train_loss = train_epoch(\n",
    "        model,\n",
    "        train_data_loader,    \n",
    "        loss_fn, \n",
    "        optimizer, \n",
    "        device, \n",
    "        scheduler, \n",
    "        len(train_data_loader.dataset)\n",
    "        )\n",
    "\n",
    "        print(f'Train loss {train_loss} accuracy {train_acc}')\n",
    "\n",
    "        test_acc, test_loss = eval_model(\n",
    "        model,\n",
    "        test_data_loader,\n",
    "        loss_fn, \n",
    "        device, \n",
    "        len(test_data_loader.dataset)\n",
    "        )\n",
    "\n",
    "        print(f'test   loss {test_loss} accuracy {test_acc}')\n",
    "        print()\n",
    "\n",
    "        history['train_acc'].append(train_acc)\n",
    "        history['train_loss'].append(train_loss)\n",
    "        history['test_acc'].append(test_acc)\n",
    "        history['test_loss'].append(test_loss)\n",
    "        if test_acc > best_accuracy:\n",
    "            best_accuracy = test_acc\n",
    "\n",
    "    return model,history,best_accuracy"
   ]
  },
  {
   "cell_type": "code",
   "execution_count": 19,
   "metadata": {},
   "outputs": [],
   "source": [
    "import torch.nn.functional as F\n",
    "def get_predictions(model, data_loader):\n",
    "  model = model.eval()\n",
    "  \n",
    "  questions = []\n",
    "  predictions = []\n",
    "  prediction_probs = []\n",
    "  real_values = []\n",
    "\n",
    "  with torch.no_grad():\n",
    "    for d in data_loader:\n",
    "      texts = d[\"question\"]\n",
    "      input_ids = d[\"input_ids\"].to(device)\n",
    "      attention_mask = d[\"attention_mask\"].to(device)\n",
    "      targets = d[\"labels\"].to(device)\n",
    "\n",
    "      outputs = model(\n",
    "        input_ids=input_ids,\n",
    "        attention_mask=attention_mask\n",
    "      )\n",
    "      _, preds = torch.max(outputs, dim=1)\n",
    "\n",
    "      probs = F.softmax(outputs, dim=1)\n",
    "\n",
    "      questions.extend(texts)\n",
    "      predictions.extend(preds)\n",
    "      prediction_probs.extend(probs)\n",
    "      real_values.extend(targets)\n",
    "\n",
    "  predictions = torch.stack(predictions).cpu()\n",
    "  prediction_probs = torch.stack(prediction_probs).cpu()\n",
    "  real_values = torch.stack(real_values).cpu()\n",
    "  return questions, predictions, prediction_probs, real_values"
   ]
  },
  {
   "cell_type": "code",
   "execution_count": 25,
   "metadata": {},
   "outputs": [
    {
     "name": "stdout",
     "output_type": "stream",
     "text": [
      "Epoch 1/3\n",
      "----------\n",
      "Train loss 0.5533362667332267 accuracy 0.8088774761555393\n",
      "test   loss 0.15251974656712264 accuracy 0.9580000000000001\n",
      "\n",
      "Epoch 2/3\n",
      "----------\n",
      "Train loss 0.10937990216342242 accuracy 0.9701027146001467\n",
      "test   loss 0.12258341038250364 accuracy 0.97\n",
      "\n",
      "Epoch 3/3\n",
      "----------\n",
      "Train loss 0.038931484680012826 accuracy 0.9908290535583273\n",
      "test   loss 0.12722792476415634 accuracy 0.972\n",
      "\n"
     ]
    }
   ],
   "source": [
    "from sklearn.metrics import f1_score, classification_report\n",
    "BATCH_SIZE = 32\n",
    "LEARNING_RATE = [2e-5,3e-5,5e-5] # recommended by the bert paper\n",
    "NUM_TRAIN_EPOCHS = [2.0,3.0,4.0]  # recommended by the bert paper\n",
    "# Warmup is a period of time where the learning rate \n",
    "# is small and gradually increases--usually helps training.\n",
    "WARMUP_PROPORTION = 0.1\n",
    "\n",
    "device = torch.device(\"cuda:0\" if torch.cuda.is_available() else \"cpu\")\n",
    "\n",
    "num_train_steps = int(len(train_data_loader.dataset) / BATCH_SIZE * 3.0)\n",
    "num_warmup_steps = int(num_train_steps * WARMUP_PROPORTION)\n",
    "model, history, accuracy = train_model(3e-5,3.0,num_warmup_steps,num_train_steps)\n",
    "\n",
    "_, pred, _, true = get_predictions(model,test_data_loader)\n",
    "\n",
    "# print(classification_report(true, pred))\n"
   ]
  },
  {
   "cell_type": "code",
   "execution_count": 24,
   "metadata": {},
   "outputs": [
    {
     "name": "stdout",
     "output_type": "stream",
     "text": [
      "              precision    recall  f1-score   support\n",
      "\n",
      "           0       1.00      0.89      0.94         9\n",
      "           1       0.95      1.00      0.98       138\n",
      "           2       0.99      0.89      0.94        94\n",
      "           3       0.98      0.98      0.98        65\n",
      "           4       0.96      0.99      0.98        81\n",
      "           5       0.98      0.99      0.99       113\n",
      "\n",
      "    accuracy                           0.97       500\n",
      "   macro avg       0.98      0.96      0.97       500\n",
      "weighted avg       0.97      0.97      0.97       500\n",
      "\n"
     ]
    }
   ],
   "source": [
    "print(classification_report(true, pred))"
   ]
  },
  {
   "cell_type": "code",
   "execution_count": 23,
   "metadata": {},
   "outputs": [
    {
     "name": "stdout",
     "output_type": "stream",
     "text": [
      "training...lr_2e-05_epoch_2.0\n",
      "Epoch 1/2\n",
      "----------\n",
      "Train loss 0.6181323294533275 accuracy 0.7798972853998533\n",
      "test   loss 0.18317736696917564 accuracy 0.9500000000000001\n",
      "\n",
      "Epoch 2/2\n",
      "----------\n",
      "Train loss 0.1113686280717191 accuracy 0.969369038884813\n",
      "test   loss 0.10946443979628384 accuracy 0.972\n",
      "\n",
      "training...lr_2e-05_epoch_3.0\n",
      "Epoch 1/3\n",
      "----------\n",
      "Train loss 0.614806680716792 accuracy 0.7820983125458548\n",
      "test   loss 0.2283167386194691 accuracy 0.9380000000000001\n",
      "\n",
      "Epoch 2/3\n",
      "----------\n",
      "Train loss 0.12259348054901201 accuracy 0.9658840792369773\n",
      "test   loss 0.16585081059020013 accuracy 0.966\n",
      "\n",
      "Epoch 3/3\n",
      "----------\n",
      "Train loss 0.043425518128890214 accuracy 0.9878943506969919\n",
      "test   loss 0.14455903857015073 accuracy 0.97\n",
      "\n",
      "training...lr_2e-05_epoch_4.0\n",
      "Epoch 1/4\n",
      "----------\n",
      "Train loss 0.6499913869240479 accuracy 0.7670579603815114\n",
      "test   loss 0.17426120792515576 accuracy 0.9580000000000001\n",
      "\n",
      "Epoch 2/4\n",
      "----------\n",
      "Train loss 0.11963644008321023 accuracy 0.9655172413793104\n",
      "test   loss 0.15938078329782002 accuracy 0.966\n",
      "\n",
      "Epoch 3/4\n",
      "----------\n",
      "Train loss 0.042948060817417436 accuracy 0.9891782831988262\n",
      "test   loss 0.15352371947665233 accuracy 0.974\n",
      "\n",
      "Epoch 4/4\n",
      "----------\n",
      "Train loss 0.0245931643096741 accuracy 0.9950476889214968\n",
      "test   loss 0.14555935045791557 accuracy 0.972\n",
      "\n",
      "training...lr_3e-05_epoch_2.0\n",
      "Epoch 1/2\n",
      "----------\n",
      "Train loss 0.5412619191042164 accuracy 0.8138297872340426\n",
      "test   loss 0.18419425538741052 accuracy 0.96\n",
      "\n",
      "Epoch 2/2\n",
      "----------\n",
      "Train loss 0.10695583251310371 accuracy 0.9680851063829787\n",
      "test   loss 0.10737267148215324 accuracy 0.97\n",
      "\n",
      "training...lr_3e-05_epoch_3.0\n",
      "Epoch 1/3\n",
      "----------\n",
      "Train loss 0.5741409181851392 accuracy 0.8064930300807044\n",
      "test   loss 0.1278335693059489 accuracy 0.966\n",
      "\n",
      "Epoch 2/3\n",
      "----------\n",
      "Train loss 0.12309160176119958 accuracy 0.9668011738811446\n",
      "test   loss 0.1379642342508305 accuracy 0.97\n",
      "\n",
      "Epoch 3/3\n",
      "----------\n",
      "Train loss 0.0401681638921867 accuracy 0.9911958914159942\n",
      "test   loss 0.13686923652130645 accuracy 0.978\n",
      "\n",
      "training...lr_3e-05_epoch_4.0\n",
      "Epoch 1/4\n",
      "----------\n",
      "Train loss 0.6058994912438922 accuracy 0.7881511371973589\n",
      "test   loss 0.16806673957034945 accuracy 0.9560000000000001\n",
      "\n",
      "Epoch 2/4\n",
      "----------\n",
      "Train loss 0.1260140863661137 accuracy 0.9647835656639766\n",
      "test   loss 0.17127393808914348 accuracy 0.972\n",
      "\n",
      "Epoch 3/4\n",
      "----------\n",
      "Train loss 0.040764511539736946 accuracy 0.9878943506969919\n",
      "test   loss 0.13562350025313208 accuracy 0.972\n",
      "\n",
      "Epoch 4/4\n",
      "----------\n",
      "Train loss 0.01495748469115872 accuracy 0.9968818782098313\n",
      "test   loss 0.1433330444197054 accuracy 0.974\n",
      "\n",
      "training...lr_5e-05_epoch_2.0\n",
      "Epoch 1/2\n",
      "----------\n",
      "Train loss 0.5637014185606736 accuracy 0.8138297872340426\n",
      "test   loss 0.1982816125964746 accuracy 0.9580000000000001\n",
      "\n",
      "Epoch 2/2\n",
      "----------\n",
      "Train loss 0.14380574119086678 accuracy 0.9618488628026413\n",
      "test   loss 0.14940239395946264 accuracy 0.964\n",
      "\n",
      "training...lr_5e-05_epoch_3.0\n",
      "Epoch 1/3\n",
      "----------\n",
      "Train loss 0.598405743878313 accuracy 0.7945707997065298\n",
      "test   loss 0.13809363963082433 accuracy 0.962\n",
      "\n",
      "Epoch 2/3\n",
      "----------\n",
      "Train loss 0.1527930634689915 accuracy 0.9592809977989729\n",
      "test   loss 0.16427688399562612 accuracy 0.966\n",
      "\n",
      "Epoch 3/3\n",
      "----------\n",
      "Train loss 0.047445188836080204 accuracy 0.9882611885546589\n",
      "test   loss 0.12823790415131953 accuracy 0.974\n",
      "\n",
      "training...lr_5e-05_epoch_4.0\n",
      "Epoch 1/4\n",
      "----------\n",
      "Train loss 0.6166835783038571 accuracy 0.7813646368305209\n",
      "test   loss 0.12399172876030207 accuracy 0.966\n",
      "\n",
      "Epoch 2/4\n",
      "----------\n",
      "Train loss 0.15351500098010776 accuracy 0.9594644167278064\n",
      "test   loss 0.15913871844531968 accuracy 0.962\n",
      "\n",
      "Epoch 3/4\n",
      "----------\n",
      "Train loss 0.062142334649698774 accuracy 0.9849596478356567\n",
      "test   loss 0.20481535623548552 accuracy 0.96\n",
      "\n",
      "Epoch 4/4\n",
      "----------\n",
      "Train loss 0.023296518428305612 accuracy 0.993947175348496\n",
      "test   loss 0.18734866022714414 accuracy 0.96\n",
      "\n",
      "['lr_2e-05_epoch_2.0', 'lr_2e-05_epoch_3.0', 'lr_2e-05_epoch_4.0', 'lr_3e-05_epoch_2.0', 'lr_3e-05_epoch_3.0', 'lr_3e-05_epoch_4.0', 'lr_5e-05_epoch_2.0', 'lr_5e-05_epoch_3.0', 'lr_5e-05_epoch_4.0']\n",
      "[0.972, 0.97, 0.974, 0.97, 0.978, 0.974, 0.964, 0.974, 0.966]\n"
     ]
    },
    {
     "data": {
      "text/plain": [
       "(0.0, 1.0)"
      ]
     },
     "execution_count": 23,
     "metadata": {},
     "output_type": "execute_result"
    },
    {
     "data": {
      "image/png": "[encoded data removed]",
      "text/plain": [
       "<Figure size 432x288 with 1 Axes>"
      ]
     },
     "metadata": {
      "needs_background": "light"
     },
     "output_type": "display_data"
    }
   ],
   "source": [
    "import matplotlib.pyplot as plt\n",
    "model_names=[]\n",
    "histories = []\n",
    "accuracies=[]\n",
    "for i in range(3):\n",
    "    for j in range(3):\n",
    "        model_names.append(f\"lr_{LEARNING_RATE[i]}_epoch_{NUM_TRAIN_EPOCHS[j]}\")\n",
    "        print(f\"training...{model_names[-1]}\")\n",
    "        num_train_steps = int(len(train_data_loader.dataset) / BATCH_SIZE * NUM_TRAIN_EPOCHS[j])\n",
    "        num_warmup_steps = int(num_train_steps * WARMUP_PROPORTION)\n",
    "        _, history, accuracy = train_model(LEARNING_RATE[i],NUM_TRAIN_EPOCHS[j],num_warmup_steps,num_train_steps)\n",
    "        histories.append(history)\n",
    "        accuracies.append(accuracy)\n",
    "accuracies = [a.item() for a in accuracies]\n",
    "\n",
    "print(model_names)\n",
    "print(accuracies)\n",
    "\n",
    "for history,model_name in zip(histories,model_names):\n",
    "    plt.plot(history[\"test_acc\"],label=model_name)\n",
    "    \n",
    "plt.legend()\n",
    "plt.ylim([0, 1])"
   ]
  },
  {
   "cell_type": "code",
   "execution_count": null,
   "metadata": {},
   "outputs": [],
   "source": []
  }
 ],
 "metadata": {
  "kernelspec": {
   "display_name": "Python (nlmatics)",
   "language": "python",
   "name": "nlmatics"
  },
  "language_info": {
   "codemirror_mode": {
    "name": "ipython",
    "version": 3
   },
   "file_extension": ".py",
   "mimetype": "text/x-python",
   "name": "python",
   "nbconvert_exporter": "python",
   "pygments_lexer": "ipython3",
   "version": "3.8.5"
  }
 },
 "nbformat": 4,
 "nbformat_minor": 4
}
