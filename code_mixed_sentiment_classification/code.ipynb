{
 "cells": [
  {
   "cell_type": "code",
   "execution_count": 7,
   "metadata": {},
   "outputs": [],
   "source": [
    "import random\n",
    "import os\n",
    "import time\n",
    "import numpy as np\n",
    "\n",
    "\n",
    "def set_seed(seed):\n",
    "    \"\"\"Set seed\"\"\"\n",
    "    random.seed(seed)\n",
    "    np.random.seed(seed)\n",
    "    os.environ['PYTHONHASHSEED'] = str(seed)\n",
    "    \n",
    "\n",
    "set_seed(0) # for reproducibility of random modules if used"
   ]
  },
  {
   "cell_type": "markdown",
   "metadata": {},
   "source": [
    "# Data Parsing:\n",
    "- When used in pipeline, data may come in different formats like json etc. "
   ]
  },
  {
   "cell_type": "code",
   "execution_count": 1,
   "metadata": {},
   "outputs": [
    {
     "data": {
      "text/plain": [
       "{}"
      ]
     },
     "execution_count": 1,
     "metadata": {},
     "output_type": "execute_result"
    }
   ],
   "source": [
    "\n",
    "tweets = []\n",
    "\n",
    "temp = {}\n",
    "\n",
    "with open(\"data/train.txt\", \"r\", encoding=\"utf-8\") as f:\n",
    "    for line in f:\n",
    "        line = line.strip().lower()\n",
    "        arr = line.split('\\t')\n",
    "        if len(arr)==3:\n",
    "            tweets.append(temp)\n",
    "            temp = {}\n",
    "            temp['id'] = arr[1]\n",
    "            if arr[2] == 'negative':\n",
    "                temp['label'] = 2\n",
    "            elif arr[2] == 'positive':\n",
    "                temp['label'] = 1\n",
    "            elif arr[2] == 'neutral':\n",
    "                temp['label'] = 0\n",
    "            else:\n",
    "                print('Error here')\n",
    "                print(arr)\n",
    "                break\n",
    "        elif len(arr)==2:\n",
    "            if 'tokens' in temp:\n",
    "                temp['tokens'].append(arr)\n",
    "            else:\n",
    "                temp['tokens'] = [arr]\n",
    "\n",
    "tweets.pop(0)"
   ]
  },
  {
   "cell_type": "markdown",
   "metadata": {},
   "source": [
    "# Data Preprocessing:\n",
    "- Removal of stopwords related to english and also hinglish, urls, usernames etc followed by tokenizing.\n",
    "- This part mostly comes under the data collection pipeline, for example: collecting the tweets/ feedbacks from different channels and having a service like **AWS Lambda** which processes the text before storing them in a database like **S3**.\n",
    "- Some of the problems which may occur as the pipeline scales is handling all types of texts pertaining to single language, multilingual, Code mixed text etc."
   ]
  },
  {
   "cell_type": "code",
   "execution_count": 2,
   "metadata": {},
   "outputs": [
    {
     "name": "stderr",
     "output_type": "stream",
     "text": [
      "[nltk_data] Downloading package stopwords to\n",
      "[nltk_data]     C:\\Users\\gampa\\AppData\\Roaming\\nltk_data...\n",
      "[nltk_data]   Package stopwords is already up-to-date!\n"
     ]
    }
   ],
   "source": [
    "import nltk\n",
    "nltk.download(\"stopwords\")\n",
    "import re\n",
    "from nltk.tokenize import casual_tokenize\n",
    "from nltk.corpus import stopwords\n",
    "from sklearn.model_selection import train_test_split\n",
    "from sklearn.utils import class_weight\n",
    "import seaborn as sns\n",
    "import pandas as pd\n",
    "import numpy as np\n",
    "\n",
    "with open(\"data/stop_hinglish.txt\", \"r\") as in_file:\n",
    "    hinglish = in_file.readlines()\n",
    "hinglish = [word.strip() for word in hinglish]\n",
    "union_stopwords = (set(stopwords.words('english')) | set(hinglish))-{'t'}"
   ]
  },
  {
   "cell_type": "code",
   "execution_count": 4,
   "metadata": {},
   "outputs": [],
   "source": [
    "patterns = {\n",
    "    'urls': '(https?:?(\\s)*\\/\\/)(\\s)*(www\\.)?(\\s)*((\\w|\\s)+\\.+(\\s)*)*([\\w\\-\\s]+\\/)*([\\w\\-]+)((\\?)?[\\w\\s]*=\\s*[\\w\\%&]*)*', #urls with optional spaces which is the case here\n",
    "    'usernames': '@(\\s)*[\\w]+'\n",
    "}\n",
    "X,x_bert, y = [], [], []\n",
    "for i in range(len(tweets)):\n",
    "    phrase = ''\n",
    "    for word in tweets[i]['tokens']:\n",
    "        word = word[0]\n",
    "        if word.lower() in union_stopwords:\n",
    "            pass\n",
    "        else:\n",
    "            phrase += (' ' + word) if len(phrase) != 0 else word\n",
    "\n",
    "    phrase = re.sub(patterns['urls'], \"\", phrase)\n",
    "    phrase = re.sub(patterns['usernames'],\"\",phrase)\n",
    "    phrase = ' '.join(casual_tokenize(phrase, reduce_len=True, strip_handles=True))\n",
    "    X.append(phrase)\n",
    "    x_bert.append(phrase)\n",
    "    y.append(tweets[i]['label'])"
   ]
  },
  {
   "cell_type": "markdown",
   "metadata": {},
   "source": [
    "- More pre-processing techniques like lemmatisation/normalisation can also be done. Since these are language dependent, we can use the language labels for each word while processing. Some of the problems which are possible are: all languages don't have the support of lemmatisation, specifically the low resource languages. Maybe use language agnostic normalisation techniques like neural stemming or neural lemmatisation.\n",
    "- In practice, we may not have the language labels by default while collecting the data from different channels, we have to have an overhead for language annotations before the preprocessing steps. \n",
    "- If we can have models that achieve good score without some of the preprocessing techniques with high computational overhead, then those pre_processing techniques can be ignored. \n",
    "\n",
    "# Model Training Part:\n",
    "## Exploratory analysis"
   ]
  },
  {
   "cell_type": "code",
   "execution_count": 4,
   "metadata": {},
   "outputs": [
    {
     "data": {
      "text/plain": [
       "<matplotlib.axes._subplots.AxesSubplot at 0x215f0ee67f0>"
      ]
     },
     "execution_count": 4,
     "metadata": {},
     "output_type": "execute_result"
    },
    {
     "data": {
      "image/png": "[encoded data removed]",
      "text/plain": [
       "<Figure size 432x288 with 1 Axes>"
      ]
     },
     "metadata": {},
     "output_type": "display_data"
    }
   ],
   "source": [
    "df = pd.DataFrame()\n",
    "df[\"tweet\"] = X\n",
    "df[\"sentiment\"] = y\n",
    "sns.set(style=\"darkgrid\")\n",
    "sns.countplot(x='sentiment', data=df, hue='sentiment') # class distributions, have to take special care when the dataset is imbalanced\n"
   ]
  },
  {
   "cell_type": "code",
   "execution_count": 5,
   "metadata": {},
   "outputs": [
    {
     "data": {
      "image/png": "[encoded data removed]",
      "text/plain": [
       "<Figure size 432x288 with 1 Axes>"
      ]
     },
     "metadata": {},
     "output_type": "display_data"
    }
   ],
   "source": [
    "length = df['tweet'].str.len().plot.hist(figsize = (6, 4)) # distribution of the tweet lengths, more inference time for large length texts"
   ]
  },
  {
   "cell_type": "markdown",
   "metadata": {},
   "source": [
    "## Feauture Extraction/ Feature Engineering:\n",
    "- There are different ways of converting the texts to vectors (Or) extracting features from words in the vocabulary like bag of words, tf-idf etc. \n",
    "- Or using pretrained embeddings like word2vec, glove etc. For code mixed data, the vectors corresponding to the two different languages have to be present in a common vector space. For example, fast text has **aligned** vectors [https://fasttext.cc/docs/en/aligned-vectors.html] which has mutlilingual text embeddings in a common vector space. Here **language labels** can be used while converting each word to a vector. \n",
    "- If not for pretrained, we can train our own embeddings through an embedding layer if neural networks are used Or fit a custom word2vec on the data vocabulary we have. Drawbacks: poor representations if the data is less. Maybe using pretrained multilingual versions of BERT or GPT is a better solution. "
   ]
  },
  {
   "cell_type": "code",
   "execution_count": 6,
   "metadata": {},
   "outputs": [
    {
     "name": "stdout",
     "output_type": "stream",
     "text": [
      "(13617, 2500)\n",
      "(1513, 2500)\n",
      "(13617,)\n",
      "(1513,)\n"
     ]
    }
   ],
   "source": [
    "from sklearn.feature_extraction.text import CountVectorizer\n",
    "\n",
    "cv = CountVectorizer(max_features = 2500)\n",
    "x = cv.fit_transform(X).toarray()\n",
    "y = np.array(y)\n",
    "# Splitting the data sets\n",
    "test_size = 0.1\n",
    "X_train, X_test, y_train, y_test = train_test_split(x, y, test_size=test_size, random_state=42) #K fold cv is robust to the splitting of dataset\n",
    "\n",
    "print(X_train.shape)\n",
    "print(X_test.shape)\n",
    "print(y_train.shape)\n",
    "print(y_test.shape)"
   ]
  },
  {
   "cell_type": "code",
   "execution_count": 7,
   "metadata": {},
   "outputs": [],
   "source": [
    "from sklearn.preprocessing import StandardScaler\n",
    "\n",
    "sc = StandardScaler()\n",
    "\n",
    "X_train = sc.fit_transform(X_train)\n",
    "X_test = sc.transform(X_test)"
   ]
  },
  {
   "cell_type": "markdown",
   "metadata": {},
   "source": [
    "## Model training:\n",
    "- Once we have the preprocessed data, we need to decide the model architectures. Sometimes, it is also possible that we may need to use ensemble of different architectures. This also involves hyperparamter tuning etc. This process is mostly done offline.\n",
    "- And it is also good to do different ablations corresponding to different preprocessing techniques. For example, if the final accuracy of the best model doesn't differ much when one preprocessing tecchnique is removed, we can ignore this for improving the overall latency.\n",
    "- While I have used non deep learning based architectures in this notebook, deep learning architectures like RNN, CNN can also be used with softmax layer at the output with three classes."
   ]
  },
  {
   "cell_type": "code",
   "execution_count": 8,
   "metadata": {},
   "outputs": [
    {
     "name": "stdout",
     "output_type": "stream",
     "text": [
      "Results for RandomForest\n",
      "Training time: 123.279668s; Prediction time: 0.248341s\n",
      "              precision    recall  f1-score   support\n",
      "\n",
      "           0       0.50      0.51      0.50       587\n",
      "           1       0.61      0.60      0.61       486\n",
      "           2       0.59      0.59      0.59       440\n",
      "\n",
      "    accuracy                           0.56      1513\n",
      "   macro avg       0.57      0.57      0.57      1513\n",
      "weighted avg       0.56      0.56      0.56      1513\n",
      "\n"
     ]
    }
   ],
   "source": [
    "from sklearn.ensemble import RandomForestClassifier\n",
    "from sklearn.metrics import confusion_matrix\n",
    "from sklearn.metrics import f1_score, classification_report\n",
    "import time\n",
    "\n",
    "model = RandomForestClassifier()\n",
    "\n",
    "t0 = time.time()\n",
    "model.fit(X_train, y_train)\n",
    "t1 = time.time()\n",
    "y_pred = model.predict(X_test)\n",
    "t2 = time.time()\n",
    "time_train = t1-t0\n",
    "time_predict = t2-t1\n",
    "\n",
    "\n",
    "print(\"Results for RandomForest\")\n",
    "print(\"Training time: %fs; Prediction time: %fs\" % (time_train, time_predict))\n",
    "print(classification_report(y_test, y_pred))\n"
   ]
  },
  {
   "cell_type": "code",
   "execution_count": 9,
   "metadata": {},
   "outputs": [
    {
     "name": "stdout",
     "output_type": "stream",
     "text": [
      "Results for DecisionTree\n",
      "Training time: 80.127704s; Prediction time: 0.015960s\n",
      "              precision    recall  f1-score   support\n",
      "\n",
      "           0       0.47      0.50      0.48       587\n",
      "           1       0.55      0.52      0.53       486\n",
      "           2       0.53      0.52      0.52       440\n",
      "\n",
      "    accuracy                           0.51      1513\n",
      "   macro avg       0.52      0.51      0.51      1513\n",
      "weighted avg       0.51      0.51      0.51      1513\n",
      "\n"
     ]
    }
   ],
   "source": [
    "from sklearn.tree import DecisionTreeClassifier\n",
    "\n",
    "\n",
    "model = DecisionTreeClassifier()\n",
    "\n",
    "t0 = time.time()\n",
    "model.fit(X_train, y_train)\n",
    "t1 = time.time()\n",
    "y_pred = model.predict(X_test)\n",
    "t2 = time.time()\n",
    "time_train = t1-t0\n",
    "time_predict = t2-t1\n",
    "\n",
    "\n",
    "print(\"Results for DecisionTree\")\n",
    "print(\"Training time: %fs; Prediction time: %fs\" % (time_train, time_predict))\n",
    "print(classification_report(y_test, y_pred))"
   ]
  },
  {
   "cell_type": "code",
   "execution_count": 10,
   "metadata": {},
   "outputs": [
    {
     "name": "stdout",
     "output_type": "stream",
     "text": [
      "Results for SVC\n",
      "Training time: 689.107048s; Prediction time: 62.861432s\n",
      "              precision    recall  f1-score   support\n",
      "\n",
      "           0       0.51      0.63      0.56       587\n",
      "           1       0.68      0.56      0.61       486\n",
      "           2       0.62      0.54      0.58       440\n",
      "\n",
      "    accuracy                           0.58      1513\n",
      "   macro avg       0.60      0.58      0.59      1513\n",
      "weighted avg       0.60      0.58      0.58      1513\n",
      "\n"
     ]
    }
   ],
   "source": [
    "from sklearn.svm import SVC\n",
    "\n",
    "\n",
    "model = SVC()\n",
    "\n",
    "t0 = time.time()\n",
    "model.fit(X_train, y_train)\n",
    "t1 = time.time()\n",
    "y_pred = model.predict(X_test)\n",
    "t2 = time.time()\n",
    "time_train = t1-t0\n",
    "time_predict = t2-t1\n",
    "\n",
    "\n",
    "print(\"Results for SVC\")\n",
    "print(\"Training time: %fs; Prediction time: %fs\" % (time_train, time_predict))\n",
    "print(classification_report(y_test, y_pred))"
   ]
  },
  {
   "cell_type": "code",
   "execution_count": 11,
   "metadata": {},
   "outputs": [
    {
     "name": "stdout",
     "output_type": "stream",
     "text": [
      "Results for XGBClassifier\n",
      "Training time: 179.602680s; Prediction time: 0.134640s\n",
      "              precision    recall  f1-score   support\n",
      "\n",
      "           0       0.53      0.69      0.60       587\n",
      "           1       0.69      0.60      0.64       486\n",
      "           2       0.66      0.50      0.57       440\n",
      "\n",
      "    accuracy                           0.60      1513\n",
      "   macro avg       0.63      0.60      0.60      1513\n",
      "weighted avg       0.62      0.60      0.60      1513\n",
      "\n"
     ]
    }
   ],
   "source": [
    "from xgboost import XGBClassifier\n",
    "\n",
    "\n",
    "model = XGBClassifier()\n",
    "\n",
    "t0 = time.time()\n",
    "model.fit(X_train, y_train)\n",
    "t1 = time.time()\n",
    "y_pred = model.predict(X_test)\n",
    "t2 = time.time()\n",
    "time_train = t1-t0\n",
    "time_predict = t2-t1\n",
    "\n",
    "\n",
    "print(\"Results for XGBClassifier\")\n",
    "print(\"Training time: %fs; Prediction time: %fs\" % (time_train, time_predict))\n",
    "print(classification_report(y_test, y_pred))"
   ]
  },
  {
   "cell_type": "markdown",
   "metadata": {},
   "source": [
    "## DistilBERT: BERT with less parameters "
   ]
  },
  {
   "cell_type": "code",
   "execution_count": 16,
   "metadata": {},
   "outputs": [
    {
     "name": "stdout",
     "output_type": "stream",
     "text": [
      "preprocessing train...\n",
      "language: en\n",
      "train sequence lengths:\n",
      "\tmean : 13\n",
      "\t95percentile : 21\n",
      "\t99percentile : 25\n"
     ]
    },
    {
     "data": {
      "application/vnd.jupyter.widget-view+json": {
       "model_id": "27c3fdf1c38e470aa49000d7d19a8cef",
       "version_major": 2,
       "version_minor": 0
      },
      "text/plain": [
       "HBox(children=(FloatProgress(value=0.0, description='Downloading', max=231508.0, style=ProgressStyle(descripti…"
      ]
     },
     "metadata": {},
     "output_type": "display_data"
    },
    {
     "name": "stdout",
     "output_type": "stream",
     "text": [
      "\n"
     ]
    },
    {
     "data": {
      "text/html": [],
      "text/plain": [
       "<IPython.core.display.HTML object>"
      ]
     },
     "metadata": {},
     "output_type": "display_data"
    },
    {
     "name": "stdout",
     "output_type": "stream",
     "text": [
      "Is Multi-Label? False\n",
      "preprocessing test...\n",
      "language: en\n",
      "test sequence lengths:\n",
      "\tmean : 13\n",
      "\t95percentile : 21\n",
      "\t99percentile : 24\n"
     ]
    },
    {
     "data": {
      "text/html": [],
      "text/plain": [
       "<IPython.core.display.HTML object>"
      ]
     },
     "metadata": {},
     "output_type": "display_data"
    },
    {
     "data": {
      "application/vnd.jupyter.widget-view+json": {
       "model_id": "e1c716d9fbb44427b829a7a2067caaff",
       "version_major": 2,
       "version_minor": 0
      },
      "text/plain": [
       "HBox(children=(FloatProgress(value=0.0, description='Downloading', max=442.0, style=ProgressStyle(description_…"
      ]
     },
     "metadata": {},
     "output_type": "display_data"
    },
    {
     "name": "stdout",
     "output_type": "stream",
     "text": [
      "\n"
     ]
    },
    {
     "data": {
      "application/vnd.jupyter.widget-view+json": {
       "model_id": "b64ae9807d7e4389a1e9d64b91fc4566",
       "version_major": 2,
       "version_minor": 0
      },
      "text/plain": [
       "HBox(children=(FloatProgress(value=0.0, description='Downloading', max=363423424.0, style=ProgressStyle(descri…"
      ]
     },
     "metadata": {},
     "output_type": "display_data"
    },
    {
     "name": "stdout",
     "output_type": "stream",
     "text": [
      "\n"
     ]
    }
   ],
   "source": [
    "# import ktrain and the ktrain.text modules, ktrain is a wrapper over keras which can be used for fast prototyping of transformer models\n",
    "import ktrain\n",
    "from ktrain import text\n",
    "\n",
    "# Splitting the data sets\n",
    "test_size = 0.1\n",
    "X_train, X_test, y_train, y_test = train_test_split(x_bert, np.array(y), test_size=test_size, random_state=42) #K fold cv is robust to the splitting of dataset\n",
    "\n",
    "\n",
    "#preprocess the data for BERT i.e using bert's vocabulary\n",
    "MODEL_NAME = 'distilbert-base-uncased'\n",
    "t = text.Transformer(MODEL_NAME, maxlen=150, class_names=['neutral','positive','negative'])\n",
    "trn = t.preprocess_train(X_train, y_train)\n",
    "val = t.preprocess_test(X_test, y_test)\n",
    "model = t.get_classifier()\n"
   ]
  },
  {
   "cell_type": "code",
   "execution_count": 17,
   "metadata": {},
   "outputs": [
    {
     "name": "stdout",
     "output_type": "stream",
     "text": [
      "\n",
      "\n",
      "begin training using onecycle policy with max lr of 2e-05...\n",
      "2270/2270 [==============================] - 6349s 3s/step - loss: 0.9155 - accuracy: 0.5535 - val_loss: 0.8242 - val_accuracy: 0.6147\n",
      "              precision    recall  f1-score   support\n",
      "\n",
      "     neutral       0.58      0.48      0.53       587\n",
      "    positive       0.68      0.68      0.68       486\n",
      "    negative       0.59      0.72      0.65       440\n",
      "\n",
      "    accuracy                           0.61      1513\n",
      "   macro avg       0.62      0.63      0.62      1513\n",
      "weighted avg       0.61      0.61      0.61      1513\n",
      "\n",
      "Results for BERT\n",
      "Training time: 6366.899460s; Prediction time: 182.069712s\n"
     ]
    }
   ],
   "source": [
    "#model = text.text_classifier('bert', train_data=(x_train, y_train), preproc=preproc)\n",
    "#learner = ktrain.get_learner(model, train_data=(x_train, y_train), batch_size=6)\n",
    "learner = ktrain.get_learner(model, train_data=trn, val_data=val, batch_size=6)\n",
    "\n",
    "t0 = time.time()\n",
    "learner.fit_onecycle(2e-5, 1)    # finetune the model for 1 epochs with lr 2e-5\n",
    "t1 = time.time()\n",
    "learner.validate(class_names=['neutral','positive','negative'])\n",
    "t2 = time.time()\n",
    "time_train = t1-t0\n",
    "time_predict = t2-t1\n",
    "\n",
    "# only using pretrained model\n",
    "print(\"Results for BERT\")\n",
    "print(\"Training time: %fs; Prediction time: %fs\" % (time_train, time_predict))\n"
   ]
  },
  {
   "cell_type": "markdown",
   "metadata": {},
   "source": [
    "- In the above models, xgboost has the best scores and the second best latency in terms of prediction time while decision tree has the best performance (8 times better speed but 1.2 times less accuracy than xgboost).\n",
    "- Assuming we don't have fast implementation of xgboost like in c++, decision tree can be used for achieving better throughput.\n",
    "- But, xgboost (lot of decision trees) has better generalisation capabilities than simple decision tree. Maybe perform A/B testing to decide? because we don't know whether incoming data is really different than the one trained upon. Ensemble models generally have advantages regarding generalisability.\n",
    "- And for DistillBert, as expected, it takes lot of time for inference. But, BERT has advantages when compared to all other models as it has the capability of zero-shot generalisation. (Achieving resonable performance on entirely new data or language. ex: mBERT is a multilingual bert which is trained on one language but can be used for multi languages directly) \n",
    "\n",
    "\n",
    "# Model Serving:\n",
    "- Have to decide whether the inference is batch_wise or realtime.\n",
    "- If we have done enough ablation studies during model training time, some decisions have to be made on different stages of pipelines for improving the overall latency starting from the data preprocessing stage. There can always be a latency vs accuracy tradeoff. \n",
    "- Non realtime use cases have the biggest advantage in that we can perform the inference with best model offline before hand and periodically update as the new data comes in, and serve it directly when requested. (having better latency and accuracy)\n",
    "- Since the model also has to relearn as the new data comes in, we have to decided how frequently it has to be updated.\n",
    "- At each stage, we may decide on modifications to the other stages in the hierarchy for improving the overall latency.\n",
    "- For having fast inference, maybe writing some components in c++ can be done. Like [https://github.com/LieluoboAi/radish/blob/master/radish/bert/bert_tokenizer.h] has tokenisation code for Bert written in C++."
   ]
  },
  {
   "cell_type": "code",
   "execution_count": null,
   "metadata": {},
   "outputs": [],
   "source": []
  },
  {
   "cell_type": "code",
   "execution_count": null,
   "metadata": {},
   "outputs": [],
   "source": []
  }
 ],
 "metadata": {
  "kernelspec": {
   "display_name": "Python 3",
   "language": "python",
   "name": "python3"
  },
  "language_info": {
   "codemirror_mode": {
    "name": "ipython",
    "version": 3
   },
   "file_extension": ".py",
   "mimetype": "text/x-python",
   "name": "python",
   "nbconvert_exporter": "python",
   "pygments_lexer": "ipython3",
   "version": "3.6.10"
  }
 },
 "nbformat": 4,
 "nbformat_minor": 4
}
